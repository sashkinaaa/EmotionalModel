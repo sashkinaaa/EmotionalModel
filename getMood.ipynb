{
 "cells": [
  {
   "cell_type": "code",
   "execution_count": null,
   "metadata": {},
   "outputs": [],
   "source": [
    "import pandas as pd\n",
    "import os"
   ]
  },
  {
   "cell_type": "code",
   "execution_count": null,
   "metadata": {},
   "outputs": [],
   "source": [
    "def calculateMood (z11, z12, z13, z21, z22, z23, z31, z32, z33, gf, gm, filename):\n",
    "    cwd = os.getcwd()\n",
    "    df = pd.read_csv(cwd + filename)\n",
    "    mem = df['mem'].to_list()\n",
    "    pr = df['pr'].to_list()\n",
    "    nic = df['nic'].to_list()\n",
    "    length = len(mem)\n",
    "    i = 0\n",
    "    #z13 = 1 - (z11 + z12)\n",
    "    #z23 = 1 - (z21 + z22)\n",
    "    #z33 = 1 - (z31 + z32)\n",
    "    f1 = 0\n",
    "    f2 = 0\n",
    "    f3 = 0\n",
    "    m = 0\n",
    "    k = gf\n",
    "    while i < length:\n",
    "        f1 = k * f1 + (1 - k) * (mem[i] * z11 + nic[i] * z12 + pr[i] * z13)\n",
    "        f2 = k * f2 + (1 - k) * (mem[i] * z21 + nic[i] * z22 + pr[i] * z23)\n",
    "        f3 = k * f3 + (1 - k) * (mem[i] * z31 + nic[i] * z32 + pr[i] * z33)\n",
    "        k = gf / (1 + m)\n",
    "        m = gm * m + (1 - gm) / 3 * (f1 + f2 + f3)\n",
    "        i += 1\n",
    "    return(m)"
   ]
  },
  {
   "cell_type": "code",
   "execution_count": null,
   "metadata": {},
   "outputs": [],
   "source": [
    "def saveToList (z1mood, z2mood, delta, z11, z12, z13, z21, z22, z23, z31, z32, z33):\n",
    "    z1moodlist.append(z1mood)\n",
    "    z2moodlist.append(z2mood)\n",
    "    deltalist.append(delta)\n",
    "    z11list.append(z11)\n",
    "    z12list.append(z12)\n",
    "    z13list.append(z13)\n",
    "    z21list.append(z21)\n",
    "    z22list.append(z22)\n",
    "    z23list.append(z23)\n",
    "    z31list.append(z31)\n",
    "    z32list.append(z32)\n",
    "    z33list.append(z33)"
   ]
  },
  {
   "cell_type": "code",
   "execution_count": null,
   "metadata": {
    "scrolled": true
   },
   "outputs": [],
   "source": [
    "z1moodlist = []\n",
    "z2moodlist = []\n",
    "deltalist = []\n",
    "z11list = []\n",
    "z12list = []\n",
    "z13list = []\n",
    "z21list = []\n",
    "z22list = []\n",
    "z23list = []\n",
    "z31list = []\n",
    "z32list = []\n",
    "z33list = []\n",
    "\n",
    "z33 = 0.05\n",
    "gf = 0.9\n",
    "gm = 0.9\n",
    "\n",
    "while(z33 < 1):\n",
    "    z32 = 0.05\n",
    "    while(z32 <1):\n",
    "        #if (z21 + z22) > 1: break\n",
    "        z31 = 0.05\n",
    "        while(z31 < 1):\n",
    "            z23 = 0.05\n",
    "            while(z23 < 1):\n",
    "                z22 = 0.05\n",
    "                while(z22 <1):\n",
    "                    #if (z21 + z22) > 1: break\n",
    "                    z21 = 0.05\n",
    "                    while(z21 < 1):\n",
    "                        z13=0.05\n",
    "                        while(z13 < 1):\n",
    "                            z12 = 0.05\n",
    "                            while(z12 <1):\n",
    "                                #if (z21 + z22) > 1: break\n",
    "                                z11 = 0.05\n",
    "                                while(z11 < 1):\n",
    "                                    z1mood = calculateMood(z11, z12, z13, z21, z22, z23, z31, z32, z33, gf, gm, \"/Z1.csv\")\n",
    "                                    z2mood = calculateMood(z11, z12, z13, z21, z22, z23, z31, z32, z33, gf, gm, \"/Z2.csv\")\n",
    "                                    delta = (abs(z1mood - z2mood)) / z1mood * 100\n",
    "                                    saveToList(z1mood, z2mood, delta, z11, z12, z13, z21, z22, z23, z31, z32, z33)\n",
    "                                    z11 = z11 + 0.1\n",
    "                                z12 = z12 + 0.1\n",
    "                            z13 = z13 + 0.1\n",
    "                        z21 = z21 + 0.1\n",
    "                    z22 = z22 + 0.1\n",
    "                    print(\"Working\")\n",
    "                z23 = z23 + 0.1\n",
    "            z31 = z31 + 0.1\n",
    "        z32 = z32 + 0.1\n",
    "    z33 = z33 + 0.1\n",
    "    \n",
    "dict = {'z1mood': z1moodlist, 'z2mood': z2moodlist, 'delta': deltalist, 'z11': z11list, 'z12': z12list, 'z13': z13list, 'z21': z21list, 'z22': z22list, 'z23': z23list, 'z31': z31list, 'z32': z32list, 'z33': z33list} \n",
    "df = pd.DataFrame(dict) \n",
    "df.to_csv('getMoodOutput.csv')"
   ]
  },
  {
   "cell_type": "code",
   "execution_count": null,
   "metadata": {},
   "outputs": [],
   "source": [
    "dict = {'z1mood': z1moodlist, 'z2mood': z2moodlist, 'delta': deltalist, 'z11': z11list, 'z12': z12list, 'z13': z13list, 'z21': z21list, 'z22': z22list, 'z23': z23list, 'z31': z31list, 'z32': z32list, 'z33': z33list} \n",
    "df = pd.DataFrame(dict) \n",
    "df.to_csv('getMoodOutput.csv')"
   ]
  },
  {
   "cell_type": "code",
   "execution_count": null,
   "metadata": {},
   "outputs": [],
   "source": []
  }
 ],
 "metadata": {
  "kernelspec": {
   "display_name": "Python 3",
   "language": "python",
   "name": "python3"
  },
  "language_info": {
   "codemirror_mode": {
    "name": "ipython",
    "version": 3
   },
   "file_extension": ".py",
   "mimetype": "text/x-python",
   "name": "python",
   "nbconvert_exporter": "python",
   "pygments_lexer": "ipython3",
   "version": "3.8.3"
  }
 },
 "nbformat": 4,
 "nbformat_minor": 4
}
